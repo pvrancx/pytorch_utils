{
  "nbformat": 4,
  "nbformat_minor": 0,
  "metadata": {
    "colab": {
      "name": "Copy of pytorch_utils.ipynb",
      "provenance": [],
      "collapsed_sections": [],
      "include_colab_link": true
    },
    "kernelspec": {
      "display_name": "Python 3",
      "language": "python",
      "name": "python3"
    },
    "language_info": {
      "codemirror_mode": {
        "name": "ipython",
        "version": 3
      },
      "file_extension": ".py",
      "mimetype": "text/x-python",
      "name": "python",
      "nbconvert_exporter": "python",
      "pygments_lexer": "ipython3",
      "version": "3.7.7"
    },
    "accelerator": "GPU"
  },
  "cells": [
    {
      "cell_type": "markdown",
      "metadata": {
        "id": "view-in-github",
        "colab_type": "text"
      },
      "source": [
        "<a href=\"https://colab.research.google.com/github/pvrancx/pytorch_utils/blob/master/pytorch_utils.ipynb\" target=\"_parent\"><img src=\"https://colab.research.google.com/assets/colab-badge.svg\" alt=\"Open In Colab\"/></a>"
      ]
    },
    {
      "cell_type": "markdown",
      "metadata": {
        "colab_type": "text",
        "id": "DTCfcwOJ0kTI"
      },
      "source": [
        "Install requirements"
      ]
    },
    {
      "cell_type": "code",
      "metadata": {
        "colab_type": "code",
        "id": "yy_-sixC_46O",
        "colab": {}
      },
      "source": [
        "!pip3 install torch torchvision"
      ],
      "execution_count": 0,
      "outputs": []
    },
    {
      "cell_type": "markdown",
      "metadata": {
        "colab_type": "text",
        "id": "KCE6xPCx0rbX"
      },
      "source": [
        "Mount google drive to store results"
      ]
    },
    {
      "cell_type": "code",
      "metadata": {
        "colab_type": "code",
        "id": "7fUiVgrK_Yxp",
        "colab": {}
      },
      "source": [
        "from google.colab import drive\n",
        "drive.mount('/content/gdrive')"
      ],
      "execution_count": 0,
      "outputs": []
    },
    {
      "cell_type": "code",
      "metadata": {
        "colab_type": "code",
        "id": "no44CbwgTPnh",
        "colab": {}
      },
      "source": [
        "! mkdir -p \"gdrive/My Drive/cifar10\""
      ],
      "execution_count": 0,
      "outputs": []
    },
    {
      "cell_type": "code",
      "metadata": {
        "colab_type": "code",
        "id": "fiQdKWhDS44V",
        "colab": {}
      },
      "source": [
        "% cd gdrive/My Drive/cifar10"
      ],
      "execution_count": 0,
      "outputs": []
    },
    {
      "cell_type": "markdown",
      "metadata": {
        "colab_type": "text",
        "id": "oNtACJn00wkR"
      },
      "source": [
        "Import utilities repository from GitHub"
      ]
    },
    {
      "cell_type": "code",
      "metadata": {
        "colab_type": "code",
        "id": "B5gZKbPnR-Bz",
        "colab": {}
      },
      "source": [
        "! git clone https://github.com/pvrancx/pytorch_utils.git"
      ],
      "execution_count": 0,
      "outputs": []
    },
    {
      "cell_type": "code",
      "metadata": {
        "colab_type": "code",
        "id": "trY7uTtUTrO8",
        "colab": {}
      },
      "source": [
        "% cd pytorch_utils"
      ],
      "execution_count": 0,
      "outputs": []
    },
    {
      "cell_type": "code",
      "metadata": {
        "colab_type": "code",
        "id": "cmNC-VKeueMa",
        "colab": {}
      },
      "source": [
        "! git pull"
      ],
      "execution_count": 0,
      "outputs": []
    },
    {
      "cell_type": "markdown",
      "metadata": {
        "colab_type": "text",
        "id": "jdkfsVbJ1GYE"
      },
      "source": [
        "Setup experiment"
      ]
    },
    {
      "cell_type": "code",
      "metadata": {
        "colab_type": "code",
        "id": "5nG6AhDDA6Si",
        "colab": {}
      },
      "source": [
        "import torch\n",
        "import torch.nn as nn\n",
        "from torch.utils.data.dataloader import DataLoader\n",
        "import torchvision\n",
        "import torchvision.datasets as datasets\n",
        "import torchvision.transforms as transforms\n",
        "from torchvision.models.resnet import Bottleneck, ResNet\n",
        "from torch.optim.lr_scheduler import ReduceLROnPlateau, LambdaLR"
      ],
      "execution_count": 0,
      "outputs": []
    },
    {
      "cell_type": "code",
      "metadata": {
        "colab_type": "code",
        "id": "JOw7je30UGkH",
        "colab": {}
      },
      "source": [
        "from torchutils.experiment import Experiment, Config\n",
        "from torchutils.dataloaders import cifar10_loader\n",
        "from torchutils.metrics import accuracy, ValidationMetric\n",
        "from torchutils.train import fit\n",
        "from torchutils.callbacks import ModelSaverCallback, LoggerCallback"
      ],
      "execution_count": 0,
      "outputs": []
    },
    {
      "cell_type": "code",
      "metadata": {
        "colab_type": "code",
        "id": "tKpNl6CbAM4O",
        "colab": {}
      },
      "source": [
        "device = torch.device('cuda') if torch.cuda.is_available() else torch.device('cpu')\n",
        "print(device)"
      ],
      "execution_count": 0,
      "outputs": []
    },
    {
      "cell_type": "code",
      "metadata": {
        "colab_type": "code",
        "id": "onVi2jeKA9Qf",
        "colab": {}
      },
      "source": [
        "def get_experiment():\n",
        "  resnet50 = ResNet(Bottleneck, [3, 4, 6, 3], num_classes=10)\n",
        "  optimizer = torch.optim.Adam(resnet50.parameters(), lr=1e-3)\n",
        "  return Experiment(\n",
        "      model=resnet50,\n",
        "      optimizer=optimizer,\n",
        "      loss_fn=nn.CrossEntropyLoss(),\n",
        "      lr_scheduler=None,\n",
        "      config=Config(device=device, max_epochs=200)\n",
        "  )\n"
      ],
      "execution_count": 0,
      "outputs": []
    },
    {
      "cell_type": "code",
      "metadata": {
        "id": "XQXE9QpuNaMe",
        "colab_type": "code",
        "colab": {}
      },
      "source": [
        "! mkdir -p \"/content/gdrive/My Drive/cifar10/checkpoints\""
      ],
      "execution_count": 0,
      "outputs": []
    },
    {
      "cell_type": "code",
      "metadata": {
        "colab_type": "code",
        "id": "fpBrNsSft8jj",
        "colab": {}
      },
      "source": [
        "def get_callbacks(exp, data):\n",
        "    return [\n",
        "        LoggerCallback(),\n",
        "        ModelSaverCallback(\"/content/gdrive/My Drive/cifar10/checkpoints\", frequency=10),\n",
        "        ValidationMetric(accuracy, data.test, name='validation accuracy')\n",
        "        ]"
      ],
      "execution_count": 0,
      "outputs": []
    },
    {
      "cell_type": "markdown",
      "metadata": {
        "colab_type": "text",
        "id": "tuxX85wO1Sbh"
      },
      "source": [
        "Fit model"
      ]
    },
    {
      "cell_type": "code",
      "metadata": {
        "id": "BSq3dfHcnumK",
        "colab_type": "code",
        "colab": {}
      },
      "source": [
        "def lr_schedule(epoch):\n",
        "  if epoch > 180:\n",
        "    return 0.5e-3\n",
        "  elif epoch > 160:\n",
        "    return 1e-3\n",
        "  elif epoch > 120:\n",
        "    return 1e-2\n",
        "  elif epoch > 80:\n",
        "    return 1e-1\n",
        "  return 1."
      ],
      "execution_count": 0,
      "outputs": []
    },
    {
      "cell_type": "code",
      "metadata": {
        "colab_type": "code",
        "id": "oFaDo-myCu2j",
        "colab": {}
      },
      "source": [
        "def main():\n",
        "  experiment = get_experiment()\n",
        "  data=cifar10_loader('../data', batch_size=128)\n",
        "  fit(\n",
        "      exp=experiment, \n",
        "      data=data, \n",
        "      callbacks=get_callbacks(experiment, data),\n",
        "      lr_schedulers=[ReduceLROnPlateau(experiment.optimizer), \n",
        "                     LambdaLR(experiment.optimizer, lr_schedule)]\n",
        "    )\n"
      ],
      "execution_count": 0,
      "outputs": []
    },
    {
      "cell_type": "code",
      "metadata": {
        "id": "2XuFI5vLqLvW",
        "colab_type": "code",
        "colab": {}
      },
      "source": [
        "main()"
      ],
      "execution_count": 0,
      "outputs": []
    },
    {
      "cell_type": "code",
      "metadata": {
        "id": "6rp7bThHqOpd",
        "colab_type": "code",
        "colab": {}
      },
      "source": [
        ""
      ],
      "execution_count": 0,
      "outputs": []
    }
  ]
}