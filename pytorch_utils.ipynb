{
  "nbformat": 4,
  "nbformat_minor": 0,
  "metadata": {
    "colab": {
      "name": "pytorch_utils.ipynb",
      "provenance": [],
      "authorship_tag": "ABX9TyOuI9o54IlCqNnt17+5K9fF",
      "include_colab_link": true
    },
    "kernelspec": {
      "name": "python3",
      "display_name": "Python 3"
    }
  },
  "cells": [
    {
      "cell_type": "markdown",
      "metadata": {
        "id": "view-in-github",
        "colab_type": "text"
      },
      "source": [
        "<a href=\"https://colab.research.google.com/github/pvrancx/pytorch_utils/blob/master/pytorch_utils.ipynb\" target=\"_parent\"><img src=\"https://colab.research.google.com/assets/colab-badge.svg\" alt=\"Open In Colab\"/></a>"
      ]
    },
    {
      "cell_type": "markdown",
      "metadata": {
        "id": "DTCfcwOJ0kTI",
        "colab_type": "text"
      },
      "source": [
        "Install requirements"
      ]
    },
    {
      "cell_type": "code",
      "metadata": {
        "id": "yy_-sixC_46O",
        "colab_type": "code",
        "colab": {}
      },
      "source": [
        "!pip3 install torch torchvision"
      ],
      "execution_count": 0,
      "outputs": []
    },
    {
      "cell_type": "markdown",
      "metadata": {
        "id": "KCE6xPCx0rbX",
        "colab_type": "text"
      },
      "source": [
        "Mount google drive to store results"
      ]
    },
    {
      "cell_type": "code",
      "metadata": {
        "id": "7fUiVgrK_Yxp",
        "colab_type": "code",
        "colab": {}
      },
      "source": [
        "from google.colab import drive\n",
        "drive.mount('/content/gdrive')"
      ],
      "execution_count": 0,
      "outputs": []
    },
    {
      "cell_type": "code",
      "metadata": {
        "id": "no44CbwgTPnh",
        "colab_type": "code",
        "colab": {}
      },
      "source": [
        "! mkdir -p \"gdrive/My Drive/cifar100\""
      ],
      "execution_count": 0,
      "outputs": []
    },
    {
      "cell_type": "code",
      "metadata": {
        "id": "fiQdKWhDS44V",
        "colab_type": "code",
        "colab": {}
      },
      "source": [
        "% cd gdrive/My Drive/cifar100"
      ],
      "execution_count": 0,
      "outputs": []
    },
    {
      "cell_type": "markdown",
      "metadata": {
        "id": "oNtACJn00wkR",
        "colab_type": "text"
      },
      "source": [
        "Import utilities repository from GitHub"
      ]
    },
    {
      "cell_type": "code",
      "metadata": {
        "id": "B5gZKbPnR-Bz",
        "colab_type": "code",
        "colab": {}
      },
      "source": [
        "! git clone https://github.com/pvrancx/pytorch_utils.git"
      ],
      "execution_count": 0,
      "outputs": []
    },
    {
      "cell_type": "code",
      "metadata": {
        "id": "trY7uTtUTrO8",
        "colab_type": "code",
        "colab": {}
      },
      "source": [
        "% cd pytorch_utils"
      ],
      "execution_count": 0,
      "outputs": []
    },
    {
      "cell_type": "code",
      "metadata": {
        "id": "cmNC-VKeueMa",
        "colab_type": "code",
        "colab": {}
      },
      "source": [
        "! git pull"
      ],
      "execution_count": 0,
      "outputs": []
    },
    {
      "cell_type": "markdown",
      "metadata": {
        "id": "jdkfsVbJ1GYE",
        "colab_type": "text"
      },
      "source": [
        "Setup experiment"
      ]
    },
    {
      "cell_type": "code",
      "metadata": {
        "id": "5nG6AhDDA6Si",
        "colab_type": "code",
        "colab": {}
      },
      "source": [
        "import torch\n",
        "import torch.nn as nn\n",
        "from torch.utils.data.dataloader import DataLoader\n",
        "import torchvision\n",
        "import torchvision.datasets as datasets\n",
        "import torchvision.transforms as transforms\n",
        "from torchvision.models.resnet import Bottleneck, ResNet"
      ],
      "execution_count": 0,
      "outputs": []
    },
    {
      "cell_type": "code",
      "metadata": {
        "id": "JOw7je30UGkH",
        "colab_type": "code",
        "colab": {}
      },
      "source": [
        "from torchutils.experiment import Experiment, DataLoaders, Config\n",
        "from torchutils.train import fit\n",
        "from torchutils.callbacks import ModelSaverCallback, LoggerCallback, CallbackHandler"
      ],
      "execution_count": 0,
      "outputs": []
    },
    {
      "cell_type": "code",
      "metadata": {
        "id": "tKpNl6CbAM4O",
        "colab_type": "code",
        "colab": {}
      },
      "source": [
        "device = torch.device('cuda') if torch.cuda.is_available() else torch.device('cpu')\n",
        "print(device)"
      ],
      "execution_count": 0,
      "outputs": []
    },
    {
      "cell_type": "code",
      "metadata": {
        "id": "gg93_rnrBx9p",
        "colab_type": "code",
        "colab": {}
      },
      "source": [
        "def get_dataloaders(batch_size=256):\n",
        "    transform_train = transforms.Compose([\n",
        "        transforms.RandomCrop(32, padding=4),\n",
        "        transforms.RandomHorizontalFlip(),\n",
        "        transforms.RandomRotation(15),\n",
        "        transforms.ToTensor(),\n",
        "        transforms.Normalize((0.4914, 0.4822, 0.4465), (0.2023, 0.1994, 0.2010))\n",
        "    ])\n",
        "    training_data = datasets.CIFAR100(\n",
        "        root='./data', train=True, download=True, transform=transform_train\n",
        "        )\n",
        "    train_loader = DataLoader(\n",
        "        training_data, \n",
        "        shuffle=True, \n",
        "        batch_size=batch_size\n",
        "        )\n",
        "\n",
        "    transform_test = transforms.Compose([\n",
        "        transforms.ToTensor(),\n",
        "        transforms.Normalize((0.4914, 0.4822, 0.4465), (0.2023, 0.1994, 0.2010))\n",
        "    ])\n",
        "\n",
        "    test_data = datasets.CIFAR100(\n",
        "        root='./data', train=False, download=True, transform=transform_test\n",
        "        )\n",
        "    test_loader = DataLoader(\n",
        "        test_data, \n",
        "        shuffle=False, \n",
        "        batch_size=batch_size\n",
        "        )\n",
        "    return DataLoaders(train=train_loader, test=test_loader)"
      ],
      "execution_count": 0,
      "outputs": []
    },
    {
      "cell_type": "code",
      "metadata": {
        "id": "onVi2jeKA9Qf",
        "colab_type": "code",
        "colab": {}
      },
      "source": [
        "def get_experiment():\n",
        "  resnet50 = ResNet(Bottleneck, [3, 4, 6, 3], num_classes=100)\n",
        "  optimizer = torch.optim.Adam(resnet50.parameters())\n",
        "  return Experiment(\n",
        "      model=resnet50,\n",
        "      optimizer=optimizer,\n",
        "      lr_scheduler=torch.optim.lr_scheduler.ReduceLROnPlateau(optimizer),\n",
        "      loss_fn=nn.CrossEntropyLoss(),\n",
        "      config=Config(device=device, max_epochs=200)\n",
        "  )\n"
      ],
      "execution_count": 0,
      "outputs": []
    },
    {
      "cell_type": "code",
      "metadata": {
        "id": "fpBrNsSft8jj",
        "colab_type": "code",
        "colab": {}
      },
      "source": [
        "def get_callbacks():\n",
        "    return CallbackHandler([\n",
        "        LoggerCallback(),\n",
        "        ModelSaverCallback('.', frequency=10)]\n",
        "    )"
      ],
      "execution_count": 0,
      "outputs": []
    },
    {
      "cell_type": "markdown",
      "metadata": {
        "id": "tuxX85wO1Sbh",
        "colab_type": "text"
      },
      "source": [
        "Fit model"
      ]
    },
    {
      "cell_type": "code",
      "metadata": {
        "id": "oFaDo-myCu2j",
        "colab_type": "code",
        "colab": {}
      },
      "source": [
        "fit(exp=get_experiment(), data=get_dataloaders(), callbacks=get_callbacks())\n"
      ],
      "execution_count": 0,
      "outputs": []
    }
  ]
}