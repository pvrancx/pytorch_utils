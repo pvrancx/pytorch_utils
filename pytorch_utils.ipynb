{
 "cells": [
  {
   "cell_type": "markdown",
   "metadata": {
    "colab_type": "text",
    "id": "view-in-github"
   },
   "source": [
    "<a href=\"https://colab.research.google.com/github/pvrancx/pytorch_utils/blob/master/pytorch_utils.ipynb\" target=\"_parent\"><img src=\"https://colab.research.google.com/assets/colab-badge.svg\" alt=\"Open In Colab\"/></a>"
   ]
  },
  {
   "cell_type": "markdown",
   "metadata": {
    "colab_type": "text",
    "id": "DTCfcwOJ0kTI"
   },
   "source": [
    "Install requirements"
   ]
  },
  {
   "cell_type": "code",
   "execution_count": 0,
   "metadata": {
    "colab": {},
    "colab_type": "code",
    "id": "yy_-sixC_46O"
   },
   "outputs": [],
   "source": [
    "!pip3 install torch torchvision"
   ]
  },
  {
   "cell_type": "markdown",
   "metadata": {
    "colab_type": "text",
    "id": "KCE6xPCx0rbX"
   },
   "source": [
    "Mount google drive to store results"
   ]
  },
  {
   "cell_type": "code",
   "execution_count": 0,
   "metadata": {
    "colab": {},
    "colab_type": "code",
    "id": "7fUiVgrK_Yxp"
   },
   "outputs": [],
   "source": [
    "from google.colab import drive\n",
    "drive.mount('/content/gdrive')"
   ]
  },
  {
   "cell_type": "code",
   "execution_count": 0,
   "metadata": {
    "colab": {},
    "colab_type": "code",
    "id": "no44CbwgTPnh"
   },
   "outputs": [],
   "source": [
    "! mkdir -p \"gdrive/My Drive/cifar100\""
   ]
  },
  {
   "cell_type": "code",
   "execution_count": 0,
   "metadata": {
    "colab": {},
    "colab_type": "code",
    "id": "fiQdKWhDS44V"
   },
   "outputs": [],
   "source": [
    "% cd gdrive/My Drive/cifar100"
   ]
  },
  {
   "cell_type": "markdown",
   "metadata": {
    "colab_type": "text",
    "id": "oNtACJn00wkR"
   },
   "source": [
    "Import utilities repository from GitHub"
   ]
  },
  {
   "cell_type": "code",
   "execution_count": 0,
   "metadata": {
    "colab": {},
    "colab_type": "code",
    "id": "B5gZKbPnR-Bz"
   },
   "outputs": [],
   "source": [
    "! git clone https://github.com/pvrancx/pytorch_utils.git"
   ]
  },
  {
   "cell_type": "code",
   "execution_count": 0,
   "metadata": {
    "colab": {},
    "colab_type": "code",
    "id": "trY7uTtUTrO8"
   },
   "outputs": [],
   "source": [
    "% cd pytorch_utils"
   ]
  },
  {
   "cell_type": "code",
   "execution_count": 0,
   "metadata": {
    "colab": {},
    "colab_type": "code",
    "id": "cmNC-VKeueMa"
   },
   "outputs": [],
   "source": [
    "! git pull"
   ]
  },
  {
   "cell_type": "markdown",
   "metadata": {
    "colab_type": "text",
    "id": "jdkfsVbJ1GYE"
   },
   "source": [
    "Setup experiment"
   ]
  },
  {
   "cell_type": "code",
   "execution_count": 0,
   "metadata": {
    "colab": {},
    "colab_type": "code",
    "id": "5nG6AhDDA6Si"
   },
   "outputs": [],
   "source": [
    "import torch\n",
    "import torch.nn as nn\n",
    "from torch.utils.data.dataloader import DataLoader\n",
    "import torchvision\n",
    "import torchvision.datasets as datasets\n",
    "import torchvision.transforms as transforms\n",
    "from torchvision.models.resnet import Bottleneck, ResNet"
   ]
  },
  {
   "cell_type": "code",
   "execution_count": 0,
   "metadata": {
    "colab": {},
    "colab_type": "code",
    "id": "JOw7je30UGkH"
   },
   "outputs": [],
   "source": [
    "from torchutils.experiment import Experiment, DataLoaders, Config\n",
    "from torchutils.train import fit\n",
    "from torchutils.callbacks import ModelSaverCallback, LoggerCallback, CallbackHandler"
   ]
  },
  {
   "cell_type": "code",
   "execution_count": 0,
   "metadata": {
    "colab": {},
    "colab_type": "code",
    "id": "tKpNl6CbAM4O"
   },
   "outputs": [],
   "source": [
    "device = torch.device('cuda') if torch.cuda.is_available() else torch.device('cpu')\n",
    "print(device)"
   ]
  },
  {
   "cell_type": "code",
   "execution_count": 0,
   "metadata": {
    "colab": {},
    "colab_type": "code",
    "id": "gg93_rnrBx9p"
   },
   "outputs": [],
   "source": [
    "def get_dataloaders(batch_size=256):\n",
    "    transform_train = transforms.Compose([\n",
    "        transforms.RandomCrop(32, padding=4),\n",
    "        transforms.RandomHorizontalFlip(),\n",
    "        transforms.RandomRotation(15),\n",
    "        transforms.ToTensor(),\n",
    "        transforms.Normalize((0.4914, 0.4822, 0.4465), (0.2023, 0.1994, 0.2010))\n",
    "    ])\n",
    "    training_data = datasets.CIFAR100(\n",
    "        root='./data', train=True, download=True, transform=transform_train\n",
    "        )\n",
    "    train_loader = DataLoader(\n",
    "        training_data, \n",
    "        shuffle=True, \n",
    "        batch_size=batch_size\n",
    "        )\n",
    "\n",
    "    transform_test = transforms.Compose([\n",
    "        transforms.ToTensor(),\n",
    "        transforms.Normalize((0.4914, 0.4822, 0.4465), (0.2023, 0.1994, 0.2010))\n",
    "    ])\n",
    "\n",
    "    test_data = datasets.CIFAR100(\n",
    "        root='./data', train=False, download=True, transform=transform_test\n",
    "        )\n",
    "    test_loader = DataLoader(\n",
    "        test_data, \n",
    "        shuffle=False, \n",
    "        batch_size=batch_size\n",
    "        )\n",
    "    return DataLoaders(train=train_loader, test=test_loader)"
   ]
  },
  {
   "cell_type": "code",
   "execution_count": 0,
   "metadata": {
    "colab": {},
    "colab_type": "code",
    "id": "onVi2jeKA9Qf"
   },
   "outputs": [],
   "source": [
    "def get_experiment():\n",
    "  resnet50 = ResNet(Bottleneck, [3, 4, 6, 3], num_classes=100)\n",
    "  optimizer = torch.optim.Adam(resnet50.parameters())\n",
    "  return Experiment(\n",
    "      model=resnet50,\n",
    "      optimizer=optimizer,\n",
    "      lr_scheduler=torch.optim.lr_scheduler.ReduceLROnPlateau(optimizer),\n",
    "      loss_fn=nn.CrossEntropyLoss(),\n",
    "      config=Config(device=device, max_epochs=200)\n",
    "  )\n"
   ]
  },
  {
   "cell_type": "code",
   "execution_count": null,
   "metadata": {},
   "outputs": [],
   "source": [
    "! mkdir -p \"/content/gdrive/My Drive/cifar100/checkpoints\""
   ]
  },
  {
   "cell_type": "code",
   "execution_count": 0,
   "metadata": {
    "colab": {},
    "colab_type": "code",
    "id": "fpBrNsSft8jj"
   },
   "outputs": [],
   "source": [
    "def get_callbacks():\n",
    "    return CallbackHandler([\n",
    "        LoggerCallback(),\n",
    "        ModelSaverCallback(\"/content/gdrive/My Drive/cifar100/checkpoints\", frequency=10)]\n",
    "    )"
   ]
  },
  {
   "cell_type": "markdown",
   "metadata": {
    "colab_type": "text",
    "id": "tuxX85wO1Sbh"
   },
   "source": [
    "Fit model"
   ]
  },
  {
   "cell_type": "code",
   "execution_count": 0,
   "metadata": {
    "colab": {},
    "colab_type": "code",
    "id": "oFaDo-myCu2j"
   },
   "outputs": [],
   "source": [
    "fit(exp=get_experiment(), data=get_dataloaders(), callbacks=get_callbacks())\n"
   ]
  }
 ],
 "metadata": {
  "colab": {
   "authorship_tag": "ABX9TyOuI9o54IlCqNnt17+5K9fF",
   "include_colab_link": true,
   "name": "pytorch_utils.ipynb",
   "provenance": []
  },
  "kernelspec": {
   "display_name": "Python 3",
   "language": "python",
   "name": "python3"
  },
  "language_info": {
   "codemirror_mode": {
    "name": "ipython",
    "version": 3
   },
   "file_extension": ".py",
   "mimetype": "text/x-python",
   "name": "python",
   "nbconvert_exporter": "python",
   "pygments_lexer": "ipython3",
   "version": "3.7.7"
  }
 },
 "nbformat": 4,
 "nbformat_minor": 1
}
